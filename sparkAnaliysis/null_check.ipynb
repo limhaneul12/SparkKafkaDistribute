{
 "cells": [
  {
   "cell_type": "code",
   "execution_count": 1,
   "metadata": {},
   "outputs": [
    {
     "name": "stdout",
     "output_type": "stream",
     "text": [
      "24/02/18 18:06:45 WARN Utils: Your hostname, limhaneul-ui-MacBookPro.local resolves to a loopback address: 127.0.0.1; using 192.168.0.81 instead (on interface en0)\n",
      "24/02/18 18:06:45 WARN Utils: Set SPARK_LOCAL_IP if you need to bind to another address\n"
     ]
    },
    {
     "name": "stderr",
     "output_type": "stream",
     "text": [
      "Setting default log level to \"WARN\".\n",
      "To adjust logging level use sc.setLogLevel(newLevel). For SparkR, use setLogLevel(newLevel).\n"
     ]
    },
    {
     "name": "stdout",
     "output_type": "stream",
     "text": [
      "24/02/18 18:06:46 WARN NativeCodeLoader: Unable to load native-hadoop library for your platform... using builtin-java classes where applicable\n",
      "24/02/18 18:06:47 WARN Utils: Service 'SparkUI' could not bind on port 4040. Attempting port 4041.\n"
     ]
    }
   ],
   "source": [
    "from pathlib import Path\n",
    "\n",
    "from pyspark.sql.session import SparkSession\n",
    "from pyspark.sql import DataFrame\n",
    "\n",
    "MAX_MEMORY = \"5g\"\n",
    "spark = (\n",
    "    SparkSession.builder.master(\"local[*]\")\n",
    "    .appName(\"TripAnaliysis\")\n",
    "    .config(\"spark.excutor.memory\", MAX_MEMORY)\n",
    "    .config(\"spark.driver.memory\", MAX_MEMORY)\n",
    "    .getOrCreate()\n",
    ")"
   ]
  },
  {
   "cell_type": "code",
   "execution_count": 2,
   "metadata": {},
   "outputs": [],
   "source": [
    "import os\n",
    "\n",
    "def read_parquet_data(year: int) -> list[DataFrame]:\n",
    "    # 모든 파케이 파일 경로\n",
    "    def parquet_file_all() -> list[str]:\n",
    "        return sorted(list(Path(os.getcwd()).joinpath(f\"data/{str(year)}\").glob(\"*\")))\n",
    "    \n",
    "    # return parquet_file_all()        \n",
    "    return [spark.read.parquet(f\"file:///{data}\") for data in parquet_file_all()]"
   ]
  },
  {
   "cell_type": "code",
   "execution_count": 5,
   "metadata": {},
   "outputs": [],
   "source": [
    "from pyspark.sql.functions import col\n",
    "from pyspark.sql import functions as F\n",
    "\n",
    "data = read_parquet_data(2019)[0]"
   ]
  },
  {
   "cell_type": "code",
   "execution_count": 6,
   "metadata": {},
   "outputs": [],
   "source": [
    "def datetime_groupby(data: DataFrame, name: str, agg_name: str) -> DataFrame:\n",
    "    return (\n",
    "        data.select(F.split(col(name), \" \")[0].name(\"pickup\"))\n",
    "        .groupBy(\"pickup\")\n",
    "        .agg(F.count(\"*\").name(agg_name))\n",
    "    )"
   ]
  },
  {
   "cell_type": "code",
   "execution_count": 95,
   "metadata": {},
   "outputs": [
    {
     "name": "stderr",
     "output_type": "stream",
     "text": [
      "                                                                                \r"
     ]
    }
   ],
   "source": [
    "from pyspark.sql.column import Column\n",
    "from pyspark.sql import functions as F\n",
    "\n",
    "datetime_groupby(data, \"request_datetime\", \"pickup\").toPandas().to_csv(\"testtt.csv\")\n",
    "\n",
    "def null_checking(value: Column) -> Column:\n",
    "    return F.when(value.isNull(), value).otherwise(value)\n",
    "\n",
    "reuqest = (\n",
    "    data.select(F.split(col(\"request_datetime\"), \" \")[0].name(\"pickup\"))\n",
    "    .d\n",
    "    .agg(F.count(\"*\"))\n",
    ")\n",
    "reuqest.toPandas().to_csv(\"test.csv\")\n"
   ]
  },
  {
   "cell_type": "code",
   "execution_count": null,
   "metadata": {},
   "outputs": [],
   "source": []
  }
 ],
 "metadata": {
  "kernelspec": {
   "display_name": ".venv",
   "language": "python",
   "name": "python3"
  },
  "language_info": {
   "codemirror_mode": {
    "name": "ipython",
    "version": 3
   },
   "file_extension": ".py",
   "mimetype": "text/x-python",
   "name": "python",
   "nbconvert_exporter": "python",
   "pygments_lexer": "ipython3",
   "version": "3.11.7"
  }
 },
 "nbformat": 4,
 "nbformat_minor": 2
}
