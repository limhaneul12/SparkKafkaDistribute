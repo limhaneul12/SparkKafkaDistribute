{
 "cells": [
  {
   "cell_type": "code",
   "execution_count": 69,
   "metadata": {},
   "outputs": [],
   "source": [
    "from pyspark.sql import SparkSession\n",
    "from typing import Generator, List\n",
    "import pandas as pd \n",
    "import os \n",
    "\n",
    "spark = SparkSession.builder.master(\"local\").appName(\"year-taxi\").getOrCreate()\n",
    "\n",
    "directory: Generator[str, None, None] = (f\"{os.getcwd()}/data/{i}\" for i in range(1, len(os.listdir(f\"{os.getcwd()}/data\"))))\n",
    "filename: List[str] = [f\"{p}/{data}\" for p in directory for data in os.listdir(p)]"
   ]
  },
  {
   "cell_type": "code",
   "execution_count": 79,
   "metadata": {},
   "outputs": [
    {
     "name": "stdout",
     "output_type": "stream",
     "text": [
      "/Users/imhaneul/Documents/spark-kafka-distribute/sparkAnaliysis/data/1/fhvhv_tripdata_2021-01.parquet\n",
      "/Users/imhaneul/Documents/spark-kafka-distribute/sparkAnaliysis/data/1/fhvhv_tripdata_2022-01.parquet\n",
      "/Users/imhaneul/Documents/spark-kafka-distribute/sparkAnaliysis/data/2/fhvhv_tripdata_2021-02.parquet\n",
      "/Users/imhaneul/Documents/spark-kafka-distribute/sparkAnaliysis/data/2/fhvhv_tripdata_2022-02.parquet\n",
      "/Users/imhaneul/Documents/spark-kafka-distribute/sparkAnaliysis/data/3/fhvhv_tripdata_2021-03.parquet\n",
      "/Users/imhaneul/Documents/spark-kafka-distribute/sparkAnaliysis/data/3/fhvhv_tripdata_2022-03.parquet\n",
      "/Users/imhaneul/Documents/spark-kafka-distribute/sparkAnaliysis/data/4/fhvhv_tripdata_2022-04.parquet\n",
      "/Users/imhaneul/Documents/spark-kafka-distribute/sparkAnaliysis/data/4/fhvhv_tripdata_2021-04.parquet\n",
      "/Users/imhaneul/Documents/spark-kafka-distribute/sparkAnaliysis/data/5/fhvhv_tripdata_2022-05.parquet\n",
      "/Users/imhaneul/Documents/spark-kafka-distribute/sparkAnaliysis/data/5/fhvhv_tripdata_2021-05.parquet\n",
      "/Users/imhaneul/Documents/spark-kafka-distribute/sparkAnaliysis/data/6/fhvhv_tripdata_2022-06.parquet\n",
      "/Users/imhaneul/Documents/spark-kafka-distribute/sparkAnaliysis/data/6/fhvhv_tripdata_2021-06.parquet\n",
      "/Users/imhaneul/Documents/spark-kafka-distribute/sparkAnaliysis/data/7/fhvhv_tripdata_2022-07.parquet\n",
      "/Users/imhaneul/Documents/spark-kafka-distribute/sparkAnaliysis/data/7/fhvhv_tripdata_2021-07.parquet\n",
      "/Users/imhaneul/Documents/spark-kafka-distribute/sparkAnaliysis/data/8/fhvhv_tripdata_2021-08.parquet\n",
      "/Users/imhaneul/Documents/spark-kafka-distribute/sparkAnaliysis/data/8/fhvhv_tripdata_2022-08.parquet\n",
      "/Users/imhaneul/Documents/spark-kafka-distribute/sparkAnaliysis/data/9/fhvhv_tripdata_2021-09.parquet\n",
      "/Users/imhaneul/Documents/spark-kafka-distribute/sparkAnaliysis/data/9/fhvhv_tripdata_2022-09.parquet\n",
      "/Users/imhaneul/Documents/spark-kafka-distribute/sparkAnaliysis/data/10/fhvhv_tripdata_2021-10.parquet\n",
      "/Users/imhaneul/Documents/spark-kafka-distribute/sparkAnaliysis/data/10/fhvhv_tripdata_2022-10.parquet\n"
     ]
    }
   ],
   "source": [
    "import matplotlib.pyplot as plt \n",
    "\n",
    "qs: str = \"\"\"\n",
    "select \n",
    "    pickup_date ,count(*) as trips\n",
    "from \n",
    "    (select split(pickup_datetime, \" \")[0] as pickup_date from mobility_data)\n",
    "group by\n",
    "    pickup_date\n",
    "order by\n",
    "    pickup_date asc\n",
    "\"\"\"\n",
    "for i in filename:\n",
    "    print(i)\n",
    "# for lo in filename:    \n",
    "#     d = spark.read.parquet(lo).createOrReplaceTempView(\"mobility_data\")\n",
    "#     spark.sql(qs).write.csv(path=f\"{os.getcwd()}/spark-warehouse/{}\")\n"
   ]
  },
  {
   "cell_type": "code",
   "execution_count": null,
   "metadata": {},
   "outputs": [],
   "source": []
  }
 ],
 "metadata": {
  "kernelspec": {
   "display_name": "base",
   "language": "python",
   "name": "python3"
  },
  "language_info": {
   "codemirror_mode": {
    "name": "ipython",
    "version": 3
   },
   "file_extension": ".py",
   "mimetype": "text/x-python",
   "name": "python",
   "nbconvert_exporter": "python",
   "pygments_lexer": "ipython3",
   "version": "3.10.6 | packaged by conda-forge | (main, Aug 22 2022, 20:41:22) [Clang 13.0.1 ]"
  },
  "orig_nbformat": 4,
  "vscode": {
   "interpreter": {
    "hash": "2516ec9dedd577fb6662378dc80c75bb748f265cb700a702aa389fbd4cb2ebee"
   }
  }
 },
 "nbformat": 4,
 "nbformat_minor": 2
}
