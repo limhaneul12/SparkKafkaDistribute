{
 "cells": [
  {
   "cell_type": "code",
   "execution_count": 8,
   "metadata": {},
   "outputs": [],
   "source": [
    "from pyspark.sql import SparkSession\n",
    "from typing import Generator, List\n",
    "import pandas as pd \n",
    "import os \n",
    "\n",
    "spark = SparkSession.builder.master(\"local\").appName(\"year-taxi\").getOrCreate()\n",
    "\n",
    "# directory: Generator[str, None, None] = (f\"{os.getcwd()}/data/{i}\" for i in range(1, len(os.listdir(f\"{os.getcwd()}/data\"))))\n",
    "# filename: List[str] = [f\"{p}/{data}\" for p in directory for data in os.listdir(p)]"
   ]
  },
  {
   "cell_type": "code",
   "execution_count": 9,
   "metadata": {},
   "outputs": [
    {
     "name": "stderr",
     "output_type": "stream",
     "text": [
      "                                                                                \r"
     ]
    }
   ],
   "source": [
    "directory: str = f\"{os.getcwd()}/data/2020\"\n",
    "trip3: str = \"fhvhv_tripdata_2020-03.parquet\"\n",
    "\n",
    "trip_data3 = spark.read.parquet(f\"file:///{directory}/{trip3}\")\n",
    "trip_data3.createOrReplaceTempView('month3_data')"
   ]
  },
  {
   "cell_type": "code",
   "execution_count": 15,
   "metadata": {},
   "outputs": [
    {
     "name": "stderr",
     "output_type": "stream",
     "text": [
      "[Stage 14:===================>                                      (1 + 1) / 3]\r"
     ]
    },
    {
     "name": "stdout",
     "output_type": "stream",
     "text": [
      "+----------+------+\n",
      "|    pickup| trips|\n",
      "+----------+------+\n",
      "|2020-03-01|445657|\n",
      "|2020-03-02|677283|\n",
      "|2020-03-03|642542|\n",
      "|2020-03-04|710968|\n",
      "|2020-03-05|706957|\n",
      "|2020-03-06|783893|\n",
      "|2020-03-07|894951|\n",
      "|2020-03-08|875015|\n",
      "|2020-03-09|651566|\n",
      "|2020-03-10|619615|\n",
      "|2020-03-11|625082|\n",
      "|2020-03-12|633048|\n",
      "|2020-03-13|658978|\n",
      "|2020-03-14|605978|\n",
      "|2020-03-15|532083|\n",
      "|2020-03-16|418197|\n",
      "|2020-03-17|350059|\n",
      "|2020-03-18|285114|\n",
      "|2020-03-19|264873|\n",
      "|2020-03-20|243352|\n",
      "+----------+------+\n",
      "only showing top 20 rows\n",
      "\n"
     ]
    },
    {
     "name": "stderr",
     "output_type": "stream",
     "text": [
      "                                                                                \r"
     ]
    }
   ],
   "source": [
    "import matplotlib.pyplot as plt \n",
    "# pickup_datetime pickup_datetime\n",
    "\n",
    "qs = \"\"\"\n",
    "select \n",
    "    pickup, count(*) as trips\n",
    "from \n",
    "    (select split(pickup_datetime, \" \")[0] as pickup from month3_data)\n",
    "group by \n",
    "    pickup\n",
    "order by \n",
    "    pickup asc\n",
    "\"\"\"\n",
    "spark.sql(qs).show()"
   ]
  },
  {
   "cell_type": "code",
   "execution_count": null,
   "metadata": {},
   "outputs": [],
   "source": []
  },
  {
   "cell_type": "code",
   "execution_count": null,
   "metadata": {},
   "outputs": [],
   "source": []
  }
 ],
 "metadata": {
  "kernelspec": {
   "display_name": "base",
   "language": "python",
   "name": "python3"
  },
  "language_info": {
   "codemirror_mode": {
    "name": "ipython",
    "version": 3
   },
   "file_extension": ".py",
   "mimetype": "text/x-python",
   "name": "python",
   "nbconvert_exporter": "python",
   "pygments_lexer": "ipython3",
   "version": "3.10.6"
  },
  "orig_nbformat": 4,
  "vscode": {
   "interpreter": {
    "hash": "2516ec9dedd577fb6662378dc80c75bb748f265cb700a702aa389fbd4cb2ebee"
   }
  }
 },
 "nbformat": 4,
 "nbformat_minor": 2
}
