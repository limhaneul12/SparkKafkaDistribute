{
 "cells": [
  {
   "cell_type": "code",
   "execution_count": null,
   "metadata": {},
   "outputs": [],
   "source": [
    "from pyspark.sql import SparkSession\n",
    "\n",
    "MAX_MEMORY = \"5g\"\n",
    "spark = SparkSession.builder.master(\"local\")\\\n",
    "                    .appName(\"ml_taix\")\\\n",
    "                    .config(\"spark.excutor.memory\", MAX_MEMORY)\\\n",
    "                    .config(\"spark.driver.memory\", MAX_MEMORY).getOrCreate()"
   ]
  },
  {
   "cell_type": "code",
   "execution_count": null,
   "metadata": {},
   "outputs": [],
   "source": [
    "import os\n",
    "\n",
    "directory: str = [f\"{os.getcwd()}/data/{i}\" for i in os.listdir(f\"{os.getcwd()}/data\")][2]\n",
    "filename: list[str] = [f\"{directory}/{data}\" for data in os.listdir(directory)]\n",
    "filename.sort()"
   ]
  },
  {
   "cell_type": "code",
   "execution_count": null,
   "metadata": {},
   "outputs": [],
   "source": [
    "import matplotlib.pyplot as plt \n",
    "import seaborn as sns \n",
    "\n",
    "def year_read_data() -> list:\n",
    "    return [spark.read.parquet(f\"file:///{data}\") for data in filename]\n",
    "\n",
    "def year_data_topandas_transform(table_name: str, qs: str) -> list[SparkSession]:\n",
    "    t_pickup_dat = []\n",
    "    for data in year_read_data():\n",
    "        data.createOrReplaceTempView(table_name)\n",
    "        td = spark.sql(qs).toPandas()\n",
    "        t_pickup_dat.append(td)\n",
    "    return t_pickup_dat\n",
    "\n",
    "def barplot_3to4_visualization(x: str, y: str, data: list, n_rows: int = 3, n_cols: int = 4) -> None:\n",
    "    fig, ax = plt.subplots(n_rows, n_cols, figsize=(30, 10))\n",
    "    plt.subplots_adjust(wspace = 0.4, hspace = 0.4)\n",
    "    fig.set_size_inches((80, 20))\n",
    "\n",
    "    for i, axi in enumerate(ax.flat):\n",
    "        sns.barplot(x=x, y=y, data=data[i], ax=axi)\n",
    "        axi.set_title(f'taxi 2020 --> date {i+1}')\n",
    "        axi.set_xticklabels(axi.get_xticklabels(), rotation=30)\n",
    "\n",
    "    # 데이터 플롯 출력\n",
    "    plt.show()"
   ]
  },
  {
   "cell_type": "code",
   "execution_count": null,
   "metadata": {},
   "outputs": [],
   "source": [
    "qs_2020 = \"\"\"\n",
    "SELECT \n",
    "    date,\n",
    "    count(*) as pickup\n",
    "FROM\n",
    "    (SELECT \n",
    "        split(pickup_datetime, \" \")[0] as date\n",
    "    FROM \n",
    "        trips    \n",
    "    )\n",
    "GROUP BY \n",
    "    date\n",
    "ORDER BY \n",
    "    date\n",
    "\"\"\"\n",
    "data2020_all = year_data_topandas_transform(table_name=\"trips\", qs=qs_2020)"
   ]
  },
  {
   "cell_type": "code",
   "execution_count": null,
   "metadata": {},
   "outputs": [],
   "source": [
    "barplot_3to4_visualization(x=\"date\", y=\"pickup\", data=data2020_all)"
   ]
  },
  {
   "cell_type": "code",
   "execution_count": null,
   "metadata": {},
   "outputs": [],
   "source": [
    "qs = \"\"\"\n",
    "SELECT \n",
    "    TO_DATE(pickup_datetime) as date,\n",
    "    AVG(trip_miles) as trip_miles, \n",
    "    CAST(AVG(trip_time) as INTEGER) as trip_time, \n",
    "    CAST(AVG(base_passenger_fare) as INTEGER) as base_passenger_fare,\n",
    "    AVG(tips) as tips, \n",
    "    AVG(driver_pay) as driver_pay,\n",
    "    COUNT(split(pickup_datetime, \" \")[0]) as pickup_datetime\n",
    "FROM \n",
    "    trips\n",
    "GROUP BY \n",
    "    date\n",
    "ORDER BY\n",
    "    date\n",
    "\"\"\"\n",
    "w_3to4 = year_data_topandas_transform(table_name=\"trips\", qs=qs)"
   ]
  },
  {
   "cell_type": "code",
   "execution_count": null,
   "metadata": {},
   "outputs": [],
   "source": [
    "barplot_3to4_visualization(x=\"date\", y=\"pickup_datetime\", data=w_3to4)"
   ]
  },
  {
   "cell_type": "code",
   "execution_count": null,
   "metadata": {},
   "outputs": [],
   "source": [
    "barplot_3to4_visualization(x=\"date\", y=\"driver_pay\", data=w_3to4)"
   ]
  },
  {
   "cell_type": "code",
   "execution_count": null,
   "metadata": {},
   "outputs": [],
   "source": [
    "qs = \"\"\"\n",
    "SELECT \n",
    "    TO_DATE(pickup_datetime) as pickup_datetime,\n",
    "    trip_miles as trip_miles, \n",
    "    trip_time as trip_time, \n",
    "    base_passenger_fare,\n",
    "    tips,\n",
    "    driver_pay\n",
    "FROM \n",
    "    trips\n",
    "\"\"\"\n",
    "spark.sql(qs).describe().show()"
   ]
  },
  {
   "cell_type": "code",
   "execution_count": null,
   "metadata": {},
   "outputs": [],
   "source": [
    "qs = \"\"\"\n",
    "SELECT \n",
    "    TO_DATE(pickup_datetime) as pickup_datetime,\n",
    "    trip_miles as trip_miles, \n",
    "    trip_time as trip_time, \n",
    "    base_passenger_fare,\n",
    "    tips,\n",
    "    driver_pay\n",
    "FROM \n",
    "    trips\n",
    "WHERE \n",
    "    base_passenger_fare BETWEEN 1 AND 30\n",
    "    AND trip_miles BETWEEN 1 AND 47\n",
    "    AND trip_time > 0\n",
    "    AND tips BETWEEN 2 AND 100\n",
    "    AND driver_pay BETWEEN 5 AND 500\n",
    "\"\"\"\n",
    "data = spark.sql(qs)\n",
    "data.createOrReplaceTempView(\"data\")"
   ]
  },
  {
   "cell_type": "code",
   "execution_count": null,
   "metadata": {},
   "outputs": [],
   "source": [
    "qs = \"\"\"\n",
    "SELECT \n",
    "    TO_DATE(pickup_datetime) as date,\n",
    "    AVG(trip_miles) as trip_miles, \n",
    "    CAST(AVG(trip_time) as INTEGER) as trip_time, \n",
    "    CAST(AVG(base_passenger_fare) as INTEGER) as base_passenger_fare,\n",
    "    AVG(tips) as tips, \n",
    "    AVG(driver_pay) as driver_pay,\n",
    "    COUNT(split(pickup_datetime, \" \")[0]) as pickup_datetime\n",
    "FROM \n",
    "    data\n",
    "GROUP BY \n",
    "    date\n",
    "ORDER BY\n",
    "    date\n",
    "\"\"\"\n",
    "preprocessing_3_to_4 = year_data_topandas_transform(table_name=\"data\", qs=qs)"
   ]
  },
  {
   "cell_type": "code",
   "execution_count": null,
   "metadata": {},
   "outputs": [],
   "source": [
    "fig, ax = plt.subplots(figsize=(16, 5))\n",
    "sns.lineplot(x=\"date\", y=\"driver_pay\", data=preprocessing_3_to_4[2], alpha=0.5,  color=\"blue\")\n",
    "\n",
    "plt.xticks(rotation=45)\n",
    "plt.legend()\n",
    "plt.show()"
   ]
  },
  {
   "cell_type": "code",
   "execution_count": null,
   "metadata": {},
   "outputs": [],
   "source": [
    "fig, ax = plt.subplots(figsize=(16, 5))\n",
    "sns.barplot(x=\"driver_pay\", y=\"date\", data=preprocessing_3_to_4[2], alpha=0.5)\n",
    "\n",
    "plt.xticks(rotation=45)\n",
    "plt.legend()\n",
    "plt.show()"
   ]
  },
  {
   "cell_type": "code",
   "execution_count": null,
   "metadata": {},
   "outputs": [],
   "source": [
    "fig, ax = plt.subplots(figsize=(16, 5))\n",
    "sns.lineplot(x=\"date\", y=\"driver_pay\", data=preprocessing_3_to_4[0], alpha=0.5,  color=\"blue\")\n",
    "sns.lineplot(x=\"date\", y=\"driver_pay\", data=preprocessing_3_to_4[1], alpha=0.5,  color=\"red\")\n",
    "sns.lineplot(x=\"date\", y=\"driver_pay\", data=preprocessing_3_to_4[2], alpha=0.5,  color=\"black\")\n",
    "\n",
    "plt.xticks(rotation=45)\n",
    "plt.legend()\n",
    "plt.show()"
   ]
  },
  {
   "cell_type": "code",
   "execution_count": null,
   "metadata": {},
   "outputs": [],
   "source": [
    "fig, ax = plt.subplots(figsize=(16, 5))\n",
    "sns.barplot(x=\"date\", y=\"driver_pay\", data=preprocessing_3_to_4[1])\n",
    "sns.barplot(x=\"date\", y=\"trip_miles\", data=preprocessing_3_to_4[1], color=\"red\")\n",
    "plt.xticks(rotation=45)\n",
    "plt.show()"
   ]
  },
  {
   "cell_type": "code",
   "execution_count": null,
   "metadata": {},
   "outputs": [],
   "source": []
  }
 ],
 "metadata": {
  "kernelspec": {
   "display_name": "base",
   "language": "python",
   "name": "python3"
  },
  "language_info": {
   "codemirror_mode": {
    "name": "ipython",
    "version": 3
   },
   "file_extension": ".py",
   "mimetype": "text/x-python",
   "name": "python",
   "nbconvert_exporter": "python",
   "pygments_lexer": "ipython3",
   "version": "3.11.3"
  },
  "orig_nbformat": 4,
  "vscode": {
   "interpreter": {
    "hash": "2516ec9dedd577fb6662378dc80c75bb748f265cb700a702aa389fbd4cb2ebee"
   }
  }
 },
 "nbformat": 4,
 "nbformat_minor": 2
}
