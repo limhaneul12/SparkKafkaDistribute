{
 "cells": [
  {
   "cell_type": "code",
   "execution_count": null,
   "metadata": {},
   "outputs": [],
   "source": [
    "from pyspark.sql import SparkSession\n",
    "\n",
    "MAX_MEMORY = \"5g\"\n",
    "spark = SparkSession.builder.master(\"local\")\\\n",
    "                    .appName(\"ml_taix\")\\\n",
    "                    .config(\"spark.excutor.memory\", MAX_MEMORY)\\\n",
    "                    .config(\"spark.driver.memory\", MAX_MEMORY).getOrCreate()"
   ]
  },
  {
   "cell_type": "code",
   "execution_count": null,
   "metadata": {},
   "outputs": [],
   "source": [
    "import os \n",
    "\n",
    "trip_data = f\"{os.getcwd()}/data/2020\"\n",
    "trip_directory = spark.read.parquet(f\"file:///{trip_data}/*\")\n",
    "trip_directory.createOrReplaceTempView(\"trips\")"
   ]
  },
  {
   "cell_type": "code",
   "execution_count": null,
   "metadata": {},
   "outputs": [],
   "source": [
    "trip_directory.printSchema()"
   ]
  },
  {
   "cell_type": "code",
   "execution_count": null,
   "metadata": {},
   "outputs": [
    {
     "name": "stderr",
     "output_type": "stream",
     "text": [
      "[Stage 1:============================>                            (15 + 1) / 30]\r"
     ]
    }
   ],
   "source": [
    "qs = \"\"\"\n",
    "SELECT\n",
    "    pickup_datetime,\n",
    "    PULocationID as pickup_location_id,\n",
    "    DOLocationID as drop_location_id,\n",
    "    tips,\n",
    "    driver_pay,\n",
    "    trip_miles,\n",
    "    trip_time\n",
    "FROM \n",
    "    trips\n",
    "\"\"\"\n",
    "spark.sql(qs).describe().show()\n",
    "tr_data = spark.sql(qs)\n",
    "tr_data.createOrReplaceTempView(\"trip_data\")"
   ]
  },
  {
   "cell_type": "code",
   "execution_count": null,
   "metadata": {},
   "outputs": [],
   "source": [
    "qs = \"\"\"\n",
    "SELECT \n",
    "    pickup, \n",
    "    count(*) as time\n",
    "FROM\n",
    "    (SELECT \n",
    "        split(pickup_datetime, \" \")[0] as pickup\n",
    "    FROM \n",
    "        trips    \n",
    "    )\n",
    "GROUP BY \n",
    "    pickup\n",
    "ORDER BY \n",
    "    pickup\n",
    "\"\"\"\n",
    "time_data = spark.sql(qs).toPandas()\n",
    "\n",
    "import seaborn as sns \n",
    "import matplotlib.pyplot as plt \n",
    "\n",
    "fig, ax = plt.subplots(figsize=(100, 9))\n",
    "sns.barplot(x=\"pickup\", y=\"time\", data=time_data)\n",
    "plt.xticks(rotation=45)\n",
    "plt.title(\"NYC Texi 2020-01-01 ~ 2021-01-01\")\n",
    "plt.show()"
   ]
  },
  {
   "cell_type": "code",
   "execution_count": null,
   "metadata": {},
   "outputs": [],
   "source": [
    "#trip_data = f\"{os.getcwd()}/data/2020\"\n",
    "# trip_directory = spark.read.parquet(f\"file:///{trip_data}/*\")\n",
    "# trip_directory.createOrReplaceTempView(\"trips\")\n",
    "from typing import List\n",
    "\n",
    "directory: str = [f\"{os.getcwd()}/data/{i}\" for i in os.listdir(f\"{os.getcwd()}/data\")][2]\n",
    "filename: List[str] = [f\"{directory}/{data}\" for data in os.listdir(directory)]\n",
    "filename.sort()"
   ]
  },
  {
   "cell_type": "code",
   "execution_count": null,
   "metadata": {},
   "outputs": [],
   "source": [
    "filename"
   ]
  },
  {
   "cell_type": "code",
   "execution_count": null,
   "metadata": {},
   "outputs": [],
   "source": [
    "def year_read_data() -> List:\n",
    "    return [spark.read.parquet(f\"file:///{data}\") for data in filename]\n",
    "\n",
    "def year_data(table_name: str, qs: str) -> List[SparkSession]:\n",
    "    t_pickup_dat = []\n",
    "    for data in year_read_data():\n",
    "        data.createOrReplaceTempView(table_name)\n",
    "        td = spark.sql(qs).toPandas()\n",
    "        t_pickup_dat.append(td)\n",
    "    return t_pickup_dat"
   ]
  },
  {
   "cell_type": "code",
   "execution_count": null,
   "metadata": {},
   "outputs": [],
   "source": [
    "def barplot_3to4_visualization(x: str, y:str, data: List,\n",
    "                        n_rows: int = 3, n_cols: int = 4) -> None:\n",
    "    \n",
    "    fig, ax = plt.subplots(n_rows, n_cols, figsize=(30, 10))\n",
    "    plt.subplots_adjust(wspace = 0.4, hspace = 0.4)\n",
    "    fig.set_size_inches((80, 20))\n",
    "\n",
    "    for i, axi in enumerate(ax.flat):\n",
    "        sns.barplot(x=x, y=y, data=data[i], ax=axi)\n",
    "        axi.set_title(f'taxi 2020 --> date {i+1}')\n",
    "        axi.set_xticklabels(axi.get_xticklabels(), rotation=30)\n",
    "\n",
    "    # 데이터 플롯 출력\n",
    "    plt.show()"
   ]
  },
  {
   "cell_type": "code",
   "execution_count": null,
   "metadata": {},
   "outputs": [],
   "source": [
    "qs_2020 = \"\"\"\n",
    "SELECT \n",
    "    date,\n",
    "    count(*) as pickup\n",
    "FROM\n",
    "    (SELECT \n",
    "        split(pickup_datetime, \" \")[0] as date\n",
    "    FROM \n",
    "        trips    \n",
    "    )\n",
    "GROUP BY \n",
    "    date\n",
    "ORDER BY \n",
    "    date\n",
    "\"\"\"\n",
    "data2020_all = year_data(table_name=\"trips\", qs=qs_2020)\n",
    "barplot_3to4_visualization(x=\"date\", y=\"pickup\", data=data2020_all)"
   ]
  },
  {
   "cell_type": "code",
   "execution_count": null,
   "metadata": {},
   "outputs": [],
   "source": []
  },
  {
   "cell_type": "code",
   "execution_count": null,
   "metadata": {},
   "outputs": [],
   "source": [
    "qs_2020_3 = \"\"\"\n",
    "SELECT \n",
    "    DISTINCT(TO_DATE(pickup_datetime) as pickup_datetime,\n",
    "    PULocationID as pickup_location_id,\n",
    "    DOLocationID as drop_location_id,\n",
    "    tips,\n",
    "    driver_pay,\n",
    "    trip_miles,\n",
    "    trip_time\n",
    "FROM \n",
    "    trips\n",
    "WHERE \n",
    "    driver_pay > 0\n",
    "    AND trip_miles > 0\n",
    "    AND trip_time < 300\n",
    "    AND tips < 10\n",
    "\"\"\"\n",
    "data2020_march = year_data(table_name=\"trips\", qs=qs_2020_3)\n",
    "barplot_3to4_visualization(x=\"pickup_datetime\", y=\"tips\", data=data2020_march)"
   ]
  },
  {
   "cell_type": "code",
   "execution_count": null,
   "metadata": {},
   "outputs": [],
   "source": []
  }
 ],
 "metadata": {
  "kernelspec": {
   "display_name": "base",
   "language": "python",
   "name": "python3"
  },
  "language_info": {
   "codemirror_mode": {
    "name": "ipython",
    "version": 3
   },
   "file_extension": ".py",
   "mimetype": "text/x-python",
   "name": "python",
   "nbconvert_exporter": "python",
   "pygments_lexer": "ipython3",
   "version": "3.10.6"
  },
  "orig_nbformat": 4,
  "vscode": {
   "interpreter": {
    "hash": "2516ec9dedd577fb6662378dc80c75bb748f265cb700a702aa389fbd4cb2ebee"
   }
  }
 },
 "nbformat": 4,
 "nbformat_minor": 2
}
